{
 "cells": [
  {
   "cell_type": "code",
   "execution_count": 50,
   "metadata": {},
   "outputs": [],
   "source": [
    "import replicate\n",
    "import os\n",
    "from dotenv import load_dotenv\n",
    "load_dotenv()  # This loads the environment variables from .env\n",
    "\n",
    "my_prompt= \"\"\"\n",
    "    full_text: Control Learning for Soft Robotics\n",
    "    Introduction \n",
    "\n",
    "    Classically controlled robots have revolutionised assembly lines where the environment is restricted and predictable. However, this control scheme has proven less effective in uncertain, unstructured environments due to the unmodelled nonlinearities in the morphology and its interaction with the environment. Embodied intelligence suggests that we are not controlled centrally but rather that the morphology and environment also contribute to behaviour. Therefore, the passive dynamics of the robot could be exploited to simplify the controller by making the passive dynamics closer to the desired behaviour. Consequently, there has been a growing interest in soft robots which have many passive degrees of freedom and are often underactuated. However, classical control necessitates exact kinematic and dynamic models which are hard to derive analytically for soft robots due to the nonlinear dynamics of the body, external forces and uncertain, unstructured environment. Model-free approaches are a potential solution to these problems as they can approximate inverse kinematic and dynamic models that accounts for the unknown nonlinearities.\n",
    "\n",
    "    Control Learning for Locomotion\n",
    "\n",
    "    Control for locomotion of soft robots can also be learned. Vibration-driven tensegrity robots present a challenge as the motion is unpredictable and therefore have no known analytical solution for generating gait.\n",
    "    X used an evolutionary algorithm to optimise the motor frequencies for the control of a physical vibration-driven tensegrity robot and exploited the inherent resonance of the tensegrity structures to increase the locomotion speed. Y also aimed to exploit the resonance of a vibration-driven tensegrity robot to increase locomotion speed. However, they used Bayesian optimisation to efficiently learn control for a physical robot. The policy is learned by optimising three pulse width modulation values that control the input voltage of the vibrating motors. Bayesian optimisation models the objective function using regression and uses this to select the next point to acquire. Comparing the results between random search and Bayesian optimisation with and without a prior, they found the Bayesian optimisation with a prior produced the fastest speed using the same number of trials.\n",
    "\n",
    "    input_text: X used an evolutionary algorithm to optimise the motor frequencies for the control of a physical vibration-driven tensegrity robot and exploited the inherent resonance of the tensegrity structures to increase the locomotion speed.\n",
    "\"\"\"\n",
    "\n",
    "my_system_prompt = \"\"\"\n",
    "    Given the full_text and a specific input_text, perform the following steps:\n",
    "\n",
    "    1. **Extract Key Topics**:\n",
    "    - Identify the primary subjects or technologies discussed in the input text. Focus on broad but relevant terms that are likely to be used in academic literature.\n",
    "\n",
    "    2. **Identify Contextual Keywords**:\n",
    "    - Determine additional terms that provide context or are closely related to the main topics. These should include specific technologies, problems, or methodologies mentioned in the text.\n",
    "\n",
    "    3. **Determine the Type of Information Desired**:\n",
    "    - Analyze the text to understand what kind of information is being sought (e.g., methodologies, applications, theoretical frameworks, case studies).\n",
    "\n",
    "    Using the information gathered above, output a Google Scholar search query using only the most relevant keywords and logical operators. The query should be formatted as follows:\n",
    "\n",
    "    \"[Key Topics] AND [Contextual Keywords] AND ([Type of Information Desired])\"\n",
    "\n",
    "    Ensure that the query is balanced between specificity and breadth to maximize the chance of retrieving relevant academic papers.\n",
    "\n",
    "    IMPORTANT: Only output the query formatted as above, do not write any additional details.\n",
    "\"\"\"\n",
    "\n",
    "inputs ={\n",
    "        \"top_k\": 0,\n",
    "        \"top_p\": 0.99,\n",
    "        \"prompt\": my_prompt,\n",
    "        \"max_tokens\": 32,\n",
    "        \"temperature\": 0.4,\n",
    "        \"system_prompt\": my_system_prompt,\n",
    "        \"length_penalty\": 1,\n",
    "        # \"max_new_tokens\": 64,\n",
    "        \"stop_sequences\": \"<|end_of_text|>,<|eot_id|>\",\n",
    "        \"prompt_template\": \"<|begin_of_text|><|start_header_id|>system<|end_header_id|>\\n\\n{system_prompt}<|eot_id|><|start_header_id|>user<|end_header_id|>\\n\\n{prompt}<|eot_id|><|start_header_id|>assistant<|end_header_id|>\\n\\n\",\n",
    "        \"presence_penalty\": 0,\n",
    "        \"log_performance_metrics\": False\n",
    "    }"
   ]
  },
  {
   "cell_type": "code",
   "execution_count": 51,
   "metadata": {},
   "outputs": [
    {
     "name": "stdout",
     "output_type": "stream",
     "text": [
      "Soft Robotics AND Vibration-driven tensegrity robots AND Control Learning"
     ]
    }
   ],
   "source": [
    "# The meta/meta-llama-3-8b-instruct model can stream output as it's running.\n",
    "for event in replicate.stream(\n",
    "    \"meta/meta-llama-3-8b-instruct\",\n",
    "    input=inputs,\n",
    "):\n",
    "    print(str(event), end=\"\")"
   ]
  },
  {
   "cell_type": "code",
   "execution_count": 54,
   "metadata": {},
   "outputs": [
    {
     "ename": "ReplicateError",
     "evalue": "ReplicateError Details:\ntitle: Unauthenticated\nstatus: 401\ndetail: You did not pass a valid authentication token",
     "output_type": "error",
     "traceback": [
      "\u001b[0;31m---------------------------------------------------------------------------\u001b[0m",
      "\u001b[0;31mReplicateError\u001b[0m                            Traceback (most recent call last)",
      "Cell \u001b[0;32mIn[54], line 5\u001b[0m\n\u001b[1;32m      2\u001b[0m client \u001b[38;5;241m=\u001b[39m replicate\u001b[38;5;241m.\u001b[39mClient(api_token\u001b[38;5;241m=\u001b[39m\u001b[38;5;124m\"\u001b[39m\u001b[38;5;124mREPLICATE_API_TOKEN\u001b[39m\u001b[38;5;124m\"\u001b[39m)\n\u001b[1;32m      4\u001b[0m \u001b[38;5;66;03m# Specify the model and version (if needed)\u001b[39;00m\n\u001b[0;32m----> 5\u001b[0m model \u001b[38;5;241m=\u001b[39m \u001b[43mclient\u001b[49m\u001b[38;5;241;43m.\u001b[39;49m\u001b[43mmodels\u001b[49m\u001b[38;5;241;43m.\u001b[39;49m\u001b[43mget\u001b[49m\u001b[43m(\u001b[49m\u001b[38;5;124;43m\"\u001b[39;49m\u001b[38;5;124;43mmeta/meta-llama-3-8b-instruct\u001b[39;49m\u001b[38;5;124;43m\"\u001b[39;49m\u001b[43m)\u001b[49m\n\u001b[1;32m      7\u001b[0m \u001b[38;5;66;03m# Use the prediction method with the necessary parameters\u001b[39;00m\n\u001b[1;32m      8\u001b[0m prediction \u001b[38;5;241m=\u001b[39m model\u001b[38;5;241m.\u001b[39mpredict(\u001b[38;5;241m*\u001b[39m\u001b[38;5;241m*\u001b[39minputs)\n",
      "File \u001b[0;32m/usr/local/lib/python3.12/site-packages/replicate/model.py:220\u001b[0m, in \u001b[0;36mModels.get\u001b[0;34m(self, key)\u001b[0m\n\u001b[1;32m    210\u001b[0m \u001b[38;5;28;01mdef\u001b[39;00m \u001b[38;5;21mget\u001b[39m(\u001b[38;5;28mself\u001b[39m, key: \u001b[38;5;28mstr\u001b[39m) \u001b[38;5;241m-\u001b[39m\u001b[38;5;241m>\u001b[39m Model:\n\u001b[1;32m    211\u001b[0m \u001b[38;5;250m    \u001b[39m\u001b[38;5;124;03m\"\"\"\u001b[39;00m\n\u001b[1;32m    212\u001b[0m \u001b[38;5;124;03m    Get a model by name.\u001b[39;00m\n\u001b[1;32m    213\u001b[0m \n\u001b[0;32m   (...)\u001b[0m\n\u001b[1;32m    217\u001b[0m \u001b[38;5;124;03m        The model.\u001b[39;00m\n\u001b[1;32m    218\u001b[0m \u001b[38;5;124;03m    \"\"\"\u001b[39;00m\n\u001b[0;32m--> 220\u001b[0m     resp \u001b[38;5;241m=\u001b[39m \u001b[38;5;28;43mself\u001b[39;49m\u001b[38;5;241;43m.\u001b[39;49m\u001b[43m_client\u001b[49m\u001b[38;5;241;43m.\u001b[39;49m\u001b[43m_request\u001b[49m\u001b[43m(\u001b[49m\u001b[38;5;124;43m\"\u001b[39;49m\u001b[38;5;124;43mGET\u001b[39;49m\u001b[38;5;124;43m\"\u001b[39;49m\u001b[43m,\u001b[49m\u001b[43m \u001b[49m\u001b[38;5;124;43mf\u001b[39;49m\u001b[38;5;124;43m\"\u001b[39;49m\u001b[38;5;124;43m/v1/models/\u001b[39;49m\u001b[38;5;132;43;01m{\u001b[39;49;00m\u001b[43mkey\u001b[49m\u001b[38;5;132;43;01m}\u001b[39;49;00m\u001b[38;5;124;43m\"\u001b[39;49m\u001b[43m)\u001b[49m\n\u001b[1;32m    222\u001b[0m     \u001b[38;5;28;01mreturn\u001b[39;00m _json_to_model(\u001b[38;5;28mself\u001b[39m\u001b[38;5;241m.\u001b[39m_client, resp\u001b[38;5;241m.\u001b[39mjson())\n",
      "File \u001b[0;32m/usr/local/lib/python3.12/site-packages/replicate/client.py:87\u001b[0m, in \u001b[0;36mClient._request\u001b[0;34m(self, method, path, **kwargs)\u001b[0m\n\u001b[1;32m     85\u001b[0m \u001b[38;5;28;01mdef\u001b[39;00m \u001b[38;5;21m_request\u001b[39m(\u001b[38;5;28mself\u001b[39m, method: \u001b[38;5;28mstr\u001b[39m, path: \u001b[38;5;28mstr\u001b[39m, \u001b[38;5;241m*\u001b[39m\u001b[38;5;241m*\u001b[39mkwargs) \u001b[38;5;241m-\u001b[39m\u001b[38;5;241m>\u001b[39m httpx\u001b[38;5;241m.\u001b[39mResponse:\n\u001b[1;32m     86\u001b[0m     resp \u001b[38;5;241m=\u001b[39m \u001b[38;5;28mself\u001b[39m\u001b[38;5;241m.\u001b[39m_client\u001b[38;5;241m.\u001b[39mrequest(method, path, \u001b[38;5;241m*\u001b[39m\u001b[38;5;241m*\u001b[39mkwargs)\n\u001b[0;32m---> 87\u001b[0m     \u001b[43m_raise_for_status\u001b[49m\u001b[43m(\u001b[49m\u001b[43mresp\u001b[49m\u001b[43m)\u001b[49m\n\u001b[1;32m     89\u001b[0m     \u001b[38;5;28;01mreturn\u001b[39;00m resp\n",
      "File \u001b[0;32m/usr/local/lib/python3.12/site-packages/replicate/client.py:367\u001b[0m, in \u001b[0;36m_raise_for_status\u001b[0;34m(resp)\u001b[0m\n\u001b[1;32m    365\u001b[0m \u001b[38;5;28;01mdef\u001b[39;00m \u001b[38;5;21m_raise_for_status\u001b[39m(resp: httpx\u001b[38;5;241m.\u001b[39mResponse) \u001b[38;5;241m-\u001b[39m\u001b[38;5;241m>\u001b[39m \u001b[38;5;28;01mNone\u001b[39;00m:\n\u001b[1;32m    366\u001b[0m     \u001b[38;5;28;01mif\u001b[39;00m \u001b[38;5;241m400\u001b[39m \u001b[38;5;241m<\u001b[39m\u001b[38;5;241m=\u001b[39m resp\u001b[38;5;241m.\u001b[39mstatus_code \u001b[38;5;241m<\u001b[39m \u001b[38;5;241m600\u001b[39m:\n\u001b[0;32m--> 367\u001b[0m         \u001b[38;5;28;01mraise\u001b[39;00m ReplicateError\u001b[38;5;241m.\u001b[39mfrom_response(resp)\n",
      "\u001b[0;31mReplicateError\u001b[0m: ReplicateError Details:\ntitle: Unauthenticated\nstatus: 401\ndetail: You did not pass a valid authentication token"
     ]
    }
   ],
   "source": [
    "# Initialize the client with your API token\n",
    "client = replicate.Client(api_token=\"REPLICATE_API_TOKEN\")\n",
    "\n",
    "# Specify the model and version (if needed)\n",
    "model = client.models.get(\"meta/meta-llama-3-8b-instruct\")\n",
    "\n",
    "# Use the prediction method with the necessary parameters\n",
    "prediction = model.predict(**inputs)\n",
    "\n",
    "# Print the results\n",
    "print(prediction)"
   ]
  }
 ],
 "metadata": {
  "kernelspec": {
   "display_name": "Python 3",
   "language": "python",
   "name": "python3"
  },
  "language_info": {
   "codemirror_mode": {
    "name": "ipython",
    "version": 3
   },
   "file_extension": ".py",
   "mimetype": "text/x-python",
   "name": "python",
   "nbconvert_exporter": "python",
   "pygments_lexer": "ipython3",
   "version": "3.12.4"
  }
 },
 "nbformat": 4,
 "nbformat_minor": 2
}
